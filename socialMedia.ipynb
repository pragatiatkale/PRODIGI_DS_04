{
  "metadata": {
    "kernelspec": {
      "name": "python",
      "display_name": "Python (Pyodide)",
      "language": "python"
    },
    "language_info": {
      "codemirror_mode": {
        "name": "python",
        "version": 3
      },
      "file_extension": ".py",
      "mimetype": "text/x-python",
      "name": "python",
      "nbconvert_exporter": "python",
      "pygments_lexer": "ipython3",
      "version": "3.8"
    }
  },
  "nbformat_minor": 5,
  "nbformat": 4,
  "cells": [
    {
      "id": "81b4b039-773c-48ff-8cb8-fe712c1e2ce7",
      "cell_type": "code",
      "source": "import pandas as pd\n# from textblob import TextBlob\nimport matplotlib.pyplot as plt\n\ndata = pd.read_csv('twitter.csv')\n\ndata.head()\n",
      "metadata": {
        "trusted": true
      },
      "outputs": [
        {
          "name": "stderr",
          "output_type": "stream",
          "text": "Matplotlib is building the font cache; this may take a moment.\n"
        },
        {
          "execution_count": 1,
          "output_type": "execute_result",
          "data": {
            "text/plain": "   2401  Borderlands  Positive  \\\n0  2401  Borderlands  Positive   \n1  2401  Borderlands  Positive   \n2  2401  Borderlands  Positive   \n3  2401  Borderlands  Positive   \n4  2401  Borderlands  Positive   \n\n  im getting on borderlands and i will murder you all ,  \n0  I am coming to the borders and I will kill you...     \n1  im getting on borderlands and i will kill you ...     \n2  im coming on borderlands and i will murder you...     \n3  im getting on borderlands 2 and i will murder ...     \n4  im getting into borderlands and i can murder y...     ",
            "text/html": "<div>\n<style scoped>\n    .dataframe tbody tr th:only-of-type {\n        vertical-align: middle;\n    }\n\n    .dataframe tbody tr th {\n        vertical-align: top;\n    }\n\n    .dataframe thead th {\n        text-align: right;\n    }\n</style>\n<table border=\"1\" class=\"dataframe\">\n  <thead>\n    <tr style=\"text-align: right;\">\n      <th></th>\n      <th>2401</th>\n      <th>Borderlands</th>\n      <th>Positive</th>\n      <th>im getting on borderlands and i will murder you all ,</th>\n    </tr>\n  </thead>\n  <tbody>\n    <tr>\n      <th>0</th>\n      <td>2401</td>\n      <td>Borderlands</td>\n      <td>Positive</td>\n      <td>I am coming to the borders and I will kill you...</td>\n    </tr>\n    <tr>\n      <th>1</th>\n      <td>2401</td>\n      <td>Borderlands</td>\n      <td>Positive</td>\n      <td>im getting on borderlands and i will kill you ...</td>\n    </tr>\n    <tr>\n      <th>2</th>\n      <td>2401</td>\n      <td>Borderlands</td>\n      <td>Positive</td>\n      <td>im coming on borderlands and i will murder you...</td>\n    </tr>\n    <tr>\n      <th>3</th>\n      <td>2401</td>\n      <td>Borderlands</td>\n      <td>Positive</td>\n      <td>im getting on borderlands 2 and i will murder ...</td>\n    </tr>\n    <tr>\n      <th>4</th>\n      <td>2401</td>\n      <td>Borderlands</td>\n      <td>Positive</td>\n      <td>im getting into borderlands and i can murder y...</td>\n    </tr>\n  </tbody>\n</table>\n</div>"
          },
          "metadata": {}
        }
      ],
      "execution_count": 1
    },
    {
      "id": "1a7d25b6-bfb8-4da7-96d3-6fe295ebf6a8",
      "cell_type": "code",
      "source": "\ncol_names = ['ID', 'Entity', 'Sentiment', 'Content']\ndf = pd.read_csv('twitter_training.csv', names=col_names)\ndf.head()",
      "metadata": {
        "trusted": true
      },
      "outputs": [
        {
          "execution_count": 2,
          "output_type": "execute_result",
          "data": {
            "text/plain": "     ID       Entity Sentiment  \\\n0  2401  Borderlands  Positive   \n1  2401  Borderlands  Positive   \n2  2401  Borderlands  Positive   \n3  2401  Borderlands  Positive   \n4  2401  Borderlands  Positive   \n\n                                             Content  \n0  im getting on borderlands and i will murder yo...  \n1  I am coming to the borders and I will kill you...  \n2  im getting on borderlands and i will kill you ...  \n3  im coming on borderlands and i will murder you...  \n4  im getting on borderlands 2 and i will murder ...  ",
            "text/html": "<div>\n<style scoped>\n    .dataframe tbody tr th:only-of-type {\n        vertical-align: middle;\n    }\n\n    .dataframe tbody tr th {\n        vertical-align: top;\n    }\n\n    .dataframe thead th {\n        text-align: right;\n    }\n</style>\n<table border=\"1\" class=\"dataframe\">\n  <thead>\n    <tr style=\"text-align: right;\">\n      <th></th>\n      <th>ID</th>\n      <th>Entity</th>\n      <th>Sentiment</th>\n      <th>Content</th>\n    </tr>\n  </thead>\n  <tbody>\n    <tr>\n      <th>0</th>\n      <td>2401</td>\n      <td>Borderlands</td>\n      <td>Positive</td>\n      <td>im getting on borderlands and i will murder yo...</td>\n    </tr>\n    <tr>\n      <th>1</th>\n      <td>2401</td>\n      <td>Borderlands</td>\n      <td>Positive</td>\n      <td>I am coming to the borders and I will kill you...</td>\n    </tr>\n    <tr>\n      <th>2</th>\n      <td>2401</td>\n      <td>Borderlands</td>\n      <td>Positive</td>\n      <td>im getting on borderlands and i will kill you ...</td>\n    </tr>\n    <tr>\n      <th>3</th>\n      <td>2401</td>\n      <td>Borderlands</td>\n      <td>Positive</td>\n      <td>im coming on borderlands and i will murder you...</td>\n    </tr>\n    <tr>\n      <th>4</th>\n      <td>2401</td>\n      <td>Borderlands</td>\n      <td>Positive</td>\n      <td>im getting on borderlands 2 and i will murder ...</td>\n    </tr>\n  </tbody>\n</table>\n</div>"
          },
          "metadata": {}
        }
      ],
      "execution_count": 2
    },
    {
      "id": "b8d1caf2-a639-4d50-9e36-04c3b01773e2",
      "cell_type": "code",
      "source": "\ndf.shape",
      "metadata": {
        "trusted": true
      },
      "outputs": [
        {
          "execution_count": 3,
          "output_type": "execute_result",
          "data": {
            "text/plain": "(74682, 4)"
          },
          "metadata": {}
        }
      ],
      "execution_count": 3
    },
    {
      "id": "293ab3c5-6520-4c6a-94cd-d0480eb0a284",
      "cell_type": "code",
      "source": "\ndf.describe",
      "metadata": {
        "trusted": true
      },
      "outputs": [
        {
          "execution_count": 4,
          "output_type": "execute_result",
          "data": {
            "text/plain": "<bound method NDFrame.describe of          ID       Entity Sentiment  \\\n0      2401  Borderlands  Positive   \n1      2401  Borderlands  Positive   \n2      2401  Borderlands  Positive   \n3      2401  Borderlands  Positive   \n4      2401  Borderlands  Positive   \n...     ...          ...       ...   \n74677  9200       Nvidia  Positive   \n74678  9200       Nvidia  Positive   \n74679  9200       Nvidia  Positive   \n74680  9200       Nvidia  Positive   \n74681  9200       Nvidia  Positive   \n\n                                                 Content  \n0      im getting on borderlands and i will murder yo...  \n1      I am coming to the borders and I will kill you...  \n2      im getting on borderlands and i will kill you ...  \n3      im coming on borderlands and i will murder you...  \n4      im getting on borderlands 2 and i will murder ...  \n...                                                  ...  \n74677  Just realized that the Windows partition of my...  \n74678  Just realized that my Mac window partition is ...  \n74679  Just realized the windows partition of my Mac ...  \n74680  Just realized between the windows partition of...  \n74681  Just like the windows partition of my Mac is l...  \n\n[74682 rows x 4 columns]>"
          },
          "metadata": {}
        }
      ],
      "execution_count": 4
    },
    {
      "id": "3dce1378-9cf0-4487-a673-7a592a0f71f1",
      "cell_type": "code",
      "source": "\ndf.isnull().sum()",
      "metadata": {
        "trusted": true
      },
      "outputs": [
        {
          "execution_count": 5,
          "output_type": "execute_result",
          "data": {
            "text/plain": "ID             0\nEntity         0\nSentiment      0\nContent      686\ndtype: int64"
          },
          "metadata": {}
        }
      ],
      "execution_count": 5
    },
    {
      "id": "b290c830-95c0-486b-af35-886cf9e202b0",
      "cell_type": "code",
      "source": "df.dropna(axis=0 , inplace=True)\n     \ndf.isnull().sum()",
      "metadata": {
        "trusted": true
      },
      "outputs": [
        {
          "execution_count": 6,
          "output_type": "execute_result",
          "data": {
            "text/plain": "ID           0\nEntity       0\nSentiment    0\nContent      0\ndtype: int64"
          },
          "metadata": {}
        }
      ],
      "execution_count": 6
    },
    {
      "id": "537827e6-81b9-4bc3-bcc5-426ee53ad8d4",
      "cell_type": "code",
      "source": "\ndf.duplicated().sum()",
      "metadata": {
        "trusted": true
      },
      "outputs": [
        {
          "execution_count": 7,
          "output_type": "execute_result",
          "data": {
            "text/plain": "np.int64(2340)"
          },
          "metadata": {}
        }
      ],
      "execution_count": 7
    },
    {
      "id": "4c167f85-9214-4e16-95d2-139cadadfa6d",
      "cell_type": "code",
      "source": "\ndf.drop_duplicates(inplace=True)\ndf.duplicated().sum()",
      "metadata": {
        "trusted": true
      },
      "outputs": [
        {
          "execution_count": 8,
          "output_type": "execute_result",
          "data": {
            "text/plain": "np.int64(0)"
          },
          "metadata": {}
        }
      ],
      "execution_count": 8
    },
    {
      "id": "53eb48a2-078f-4bc5-a5c6-9165cb73388c",
      "cell_type": "code",
      "source": "\nsentiment_counts = df['Sentiment'].value_counts()\nsentiment_counts\n     ",
      "metadata": {
        "trusted": true
      },
      "outputs": [
        {
          "execution_count": 10,
          "output_type": "execute_result",
          "data": {
            "text/plain": "Sentiment\nNegative      21698\nPositive      19713\nNeutral       17708\nIrrelevant    12537\nName: count, dtype: int64"
          },
          "metadata": {}
        }
      ],
      "execution_count": 10
    },
    {
      "id": "8f298c24-1f58-4a48-ba85-0b013feecf14",
      "cell_type": "code",
      "source": "\nplt.figure(figsize=(6, 3))\nsentiment_counts.plot(kind='bar', color=['#ea9999', '#f9cb9c', '#ffe599', '#b6d7a8'] ,edgecolor=['#e06666','#f6b26b','#ffd966','#93c47d'] )\nplt.title('Sentiment Distribution')\nplt.xlabel('Sentiment')\nplt.ylabel('Number of Tweets')\nplt.xticks(rotation=0)\nplt.show()",
      "metadata": {
        "trusted": true
      },
      "outputs": [
        {
          "output_type": "display_data",
          "data": {
            "text/plain": "<Figure size 600x300 with 1 Axes>",
            "image/png": "[encoded data removed]"
          },
          "metadata": {}
        }
      ],
      "execution_count": 14
    },
    {
      "id": "cf336bc0-0e30-49fc-b57a-156b9455276a",
      "cell_type": "code",
      "source": "",
      "metadata": {
        "trusted": true
      },
      "outputs": [],
      "execution_count": null
    }
  ]
}